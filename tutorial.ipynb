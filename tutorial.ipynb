{
  "cells": [
  {
   "cell_type": "markdown",
   "metadata": {},
   "source": [
    "## Safe Active Preference Learning (SAPL) Framework Tutorial\n",
    "\n",
    "In this tutorial, you will learn how to run empirical experiments and a human subject study with SAPL framework.\n",
    "\n",
    "Let's start with empirical studies. We will work on the convergence analysis when the true weight valuation is out of distribution. "
   ]
  },
  {
   "cell_type": "code",
   "execution_count": 1,
   "metadata": {},
   "outputs": [],
   "source": [
    "# imports\n",
    "\n",
    "import os, sys\n",
    "import pickle\n",
    "cwd = os.getcwd()\n",
    "sys.path.insert(0, f'{cwd}/src')   \n",
    "\n",
    "import numpy as np\n",
    "\n",
    "from APL_utils import * # utils needed for safe active preference learning\n",
    "from preprocess_utils import * # utils needed to preprocess data and formulas\n",
    "import random\n"
   ]
  },
  {
   "cell_type": "code",
   "execution_count": 2,
   "metadata": {},
   "outputs": [],
   "source": [
    "# experiment parameters \n",
    "\n",
    "no_questions = 10 # maximum number of questions to be asked\n",
    "no_samples   = 1000 # number of weight valuation samples\n",
    "threshold_probability = 0.99 # terminating likelihood probability condition\n",
    "\n",
    "repetition = 1 # times the test will be repeated\n",
    "experiment = 'pedestrian' # experiment type. choose among 'pedestrian' or 'overtake'\n"
   ]
  },
  {
   "cell_type": "code",
   "execution_count": 3,
   "metadata": {},
   "outputs": [],
   "source": [
    "# load data\n",
    "\n",
    "data_name = f\"./data/{experiment}_trajectories.pkl\"\n",
    "with open(data_name, 'rb') as f:\n",
    "    data = pickle.load(f)"
   ]
  },
  {
   "cell_type": "code",
   "execution_count": 4,
   "metadata": {},
   "outputs": [],
   "source": [
    "# data preprocess\n",
    "\n",
    "data = get_pruned_data(data, experiment) \n",
    "processed_signals = get_signals(data, experiment)\n",
    "\n",
    "# construct the formula in WSTL_formula format. Please see STLCG for details.\n",
    "phi = get_formula(processed_signals, experiment)\n"
   ]
  },
  {
   "cell_type": "code",
   "execution_count": 10,
   "metadata": {},
   "outputs": [
    {
     "name": "stdout",
     "output_type": "stream",
     "text": [
      "number of questions asked: 10\n",
      "most-likely prob: 0.6808984935352494\n",
      "number of aligned answers on asked questions: 1.0\n",
      "number of aligned answers for all questions: 0.9411764705882353\n"
     ]
    }
   ],
   "source": [
    "\n",
    "u = 0.4\n",
    "rob_diff_bound = - np.log(u/(1-u))\n",
    "\n",
    "for i in range(repetition):\n",
    "    # create no_samples + 1 samples and choose 1 as the ground truth\n",
    "    # you can seed the weight samples with seed option\n",
    "    phi.set_weights(processed_signals, w_range = [0.1,1.1], \n",
    "                    no_samples=no_samples+1, random=True) \n",
    "\n",
    "    # select the ground truth weight valuation\n",
    "    w_final = random.randint(0, no_samples+1)\n",
    "\n",
    "    # remove the ground truth from sample set\n",
    "    robs = phi.robustness(processed_signals, scale = -1).squeeze(1).squeeze(-1)\n",
    "    final_robs = robs[:,w_final]\n",
    "    phi = remove_true_sample(phi, w_final)\n",
    "\n",
    "    aPL_instance= SAPL(processed_signals, phi, no_samples, rob_diff_bound, debug = True)\n",
    "    aPL_instance.ood_convergence(threshold_probability, no_questions, final_robs)\n"
   ]
  },
  {
   "cell_type": "markdown",
   "metadata": {},
   "source": [
    "All other experiments are slight changes of these settings. Now, let's look at how to start a human subject study.\n",
    "\n",
    "In human subject studies, we need a means to show trajectories to participants. It can be a simulator machine to communicate with or we can show videos. This option is set through <tt>simulator</tt> variable. For the sake of simplicity, we use no simulator option. Additionally, we can ask validation questions at the end of the experiment"
   ]
  },
  {
   "cell_type": "code",
   "execution_count": 14,
   "metadata": {},
   "outputs": [],
   "source": [
    "import torch"
   ]
  },
  {
   "cell_type": "code",
   "execution_count": 18,
   "metadata": {},
   "outputs": [],
   "source": [
    "no_samples = 1000\n",
    "threshold_probability = 0.99\n",
    "no_questions = 1\n",
    "experiment = 'pedestrian'\n",
    "validation = 0\n",
    "simulator = False"
   ]
  },
  {
   "cell_type": "code",
   "execution_count": 19,
   "metadata": {},
   "outputs": [],
   "source": [
    "data_name = f\"./data/{experiment}_trajectories.pkl\"\n",
    "with open(data_name, 'rb') as f:\n",
    "    data = pickle.load(f)\n",
    "\n",
    "processed_signals = get_signals(data, experiment)\n",
    "phi = get_formula(processed_signals, experiment)\n",
    "\n",
    "if experiment == \"pedestrian\":\n",
    "    question_file = f\"./data/{experiment}_question.csv\"\n",
    "elif experiment == 'overtake':\n",
    "    question_file = f\"./data/{experiment}_question_filtered.csv\"\n"
   ]
  },
  {
   "cell_type": "code",
   "execution_count": 23,
   "metadata": {},
   "outputs": [
    {
     "name": "stderr",
     "output_type": "stream",
     "text": [
      "Exception in thread Thread-6 (load):\n",
      "Traceback (most recent call last):\n",
      "  File \"/usr/local/Cellar/python@3.10/3.10.13/Frameworks/Python.framework/Versions/3.10/lib/python3.10/threading.py\", line 1016, in _bootstrap_inner\n",
      "Exception in thread Thread-7 (load):\n",
      "Traceback (most recent call last):\n",
      "  File \"/usr/local/Cellar/python@3.10/3.10.13/Frameworks/Python.framework/Versions/3.10/lib/python3.10/threading.py\", line 1016, in _bootstrap_inner\n",
      "    self.run()\n",
      "  File \"/usr/local/Cellar/python@3.10/3.10.13/Frameworks/Python.framework/Versions/3.10/lib/python3.10/threading.py\", line 953, in run\n",
      "    self.run()\n",
      "  File \"/usr/local/Cellar/python@3.10/3.10.13/Frameworks/Python.framework/Versions/3.10/lib/python3.10/threading.py\", line 953, in run\n",
      "    self._target(*self._args, **self._kwargs)\n",
      "  File \"/Users/rkaragulle/Documents/active_STL_PL/lib/python3.10/site-packages/tkvideo/tkvideo.py\", line 45, in load\n",
      "    self._target(*self._args, **self._kwargs)\n",
      "  File \"/Users/rkaragulle/Documents/active_STL_PL/lib/python3.10/site-packages/tkvideo/tkvideo.py\", line 45, in load\n",
      "    frame_data = imageio.get_reader(path)\n",
      "  File \"/Users/rkaragulle/Documents/active_STL_PL/lib/python3.10/site-packages/imageio/v2.py\", line 290, in get_reader\n",
      "    frame_data = imageio.get_reader(path)\n",
      "  File \"/Users/rkaragulle/Documents/active_STL_PL/lib/python3.10/site-packages/imageio/v2.py\", line 290, in get_reader\n",
      "    image_file = imopen(uri, \"r\" + mode, **imopen_args)\n",
      "  File \"/Users/rkaragulle/Documents/active_STL_PL/lib/python3.10/site-packages/imageio/core/imopen.py\", line 113, in imopen\n",
      "    image_file = imopen(uri, \"r\" + mode, **imopen_args)\n",
      "  File \"/Users/rkaragulle/Documents/active_STL_PL/lib/python3.10/site-packages/imageio/core/imopen.py\", line 113, in imopen\n",
      "    request = Request(uri, io_mode, format_hint=format_hint, extension=extension)\n",
      "  File \"/Users/rkaragulle/Documents/active_STL_PL/lib/python3.10/site-packages/imageio/core/request.py\", line 247, in __init__\n",
      "    request = Request(uri, io_mode, format_hint=format_hint, extension=extension)\n",
      "  File \"/Users/rkaragulle/Documents/active_STL_PL/lib/python3.10/site-packages/imageio/core/request.py\", line 247, in __init__\n",
      "    self._parse_uri(uri)\n",
      "  File \"/Users/rkaragulle/Documents/active_STL_PL/lib/python3.10/site-packages/imageio/core/request.py\", line 407, in _parse_uri\n",
      "    self._parse_uri(uri)\n",
      "  File \"/Users/rkaragulle/Documents/active_STL_PL/lib/python3.10/site-packages/imageio/core/request.py\", line 407, in _parse_uri\n",
      "    raise FileNotFoundError(\"No such file: '%s'\" % fn)\n",
      "FileNotFoundError: No such file: '/Users/rkaragulle/Documents/active_STL_PL/active_STL_preference_learning/video_splits/trajectory_1/trajectory_1.avi'\n",
      "    raise FileNotFoundError(\"No such file: '%s'\" % fn)\n",
      "FileNotFoundError: No such file: '/Users/rkaragulle/Documents/active_STL_PL/active_STL_preference_learning/video_splits/trajectory_7/trajectory_7.avi'\n"
     ]
    },
    {
     "name": "stdout",
     "output_type": "stream",
     "text": [
      "Question Selected: (1, 7)\n",
      "Robustness wrt max weight set: 308.65778637838537, 217.72673731998196\n",
      "Probability of max weight: 0.0021640131068535228\n",
      "posterior of the most likely weight set: 0.0021640131068535228\n",
      "no_train_questions: 1\n",
      "train_data_aligned_answers: 1.0\n",
      "validation_aligned_answers: False\n"
     ]
    }
   ],
   "source": [
    "u = 0.36 \n",
    "rob_diff_bound = - np.log(u/(1-u))\n",
    "\n",
    "phi.set_weights(processed_signals, w_range = [0.1,1.1], no_samples=no_samples, random=True)\n",
    "\n",
    "aPL_instance= SAPL(processed_signals, phi, no_samples,\n",
    "                   robustness_difference_limit = rob_diff_bound,\n",
    "                   debug = True)\n",
    "    \n",
    "# overtake examples has some signals to be discared, we remove them from the question list.\n",
    "if experiment == \"overtake\":\n",
    "    pruned_questions = []\n",
    "    for q in aPL_instance.questions:\n",
    "        if (q[0] not in [3,4,10,14,19]) and (q[1] not in [3,4,10,14,19]):\n",
    "            pruned_questions.append(q)\n",
    "    aPL_instance.questions = pruned_questions\n",
    "\n",
    "outputs  = aPL_instance.user_experiment(simulator, question_file, \n",
    "                                        threshold_probability, no_questions)\n",
    "[most_likely_w_set, decided_robustness, formula, \n",
    "remaining_questions, max_w, agreed_answers, no_questions_asked] = outputs\n",
    "\n",
    "\n",
    "aligned_validation_questions = 0\n",
    "if validation != 0:\n",
    "    for _ in range(validation):\n",
    "        q_idx = int(torch.randint(len(remaining_questions), size=(1,)))\n",
    "        selected_q = remaining_questions[q_idx]\n",
    "        remaining_questions.remove(selected_q)\n",
    "\n",
    "        answer = aPL_instance.show_trajectories(selected_q)\n",
    "        r_diff = decided_robustness[selected_q[0]] - decided_robustness[selected_q[1]]\n",
    "        if (r_diff  >0 and answer ==0) or (r_diff < 0 and answer ==1):\n",
    "            aligned_validation_questions += 1\n",
    "    validation_agreement = aligned_validation_questions/validation\n",
    "else:\n",
    "    validation_agreement = False\n",
    "\n",
    "print(f'posterior of the most likely weight set: {max_w}') \n",
    "print(f'train_questions: {no_questions_asked}') \n",
    "print(f'train_data_agreed_answers: {agreed_answers}')\n",
    "print(f'validation_agreed_answers: {validation_agreement}')\n"
   ]
  }
 ],
 "metadata": {
  "kernelspec": {
   "display_name": "active_STL_PL",
   "language": "python",
   "name": "python3"
  },
  "language_info": {
   "codemirror_mode": {
    "name": "ipython",
    "version": 3
   },
   "file_extension": ".py",
   "mimetype": "text/x-python",
   "name": "python",
   "nbconvert_exporter": "python",
   "pygments_lexer": "ipython3",
   "version": "3.10.13"
  }
 },
 "nbformat": 4,
 "nbformat_minor": 2
}
